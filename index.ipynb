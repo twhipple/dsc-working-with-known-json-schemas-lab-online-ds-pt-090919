{
 "cells": [
  {
   "cell_type": "markdown",
   "metadata": {},
   "source": [
    "# Working with Known JSON Schemas - Lab"
   ]
  },
  {
   "cell_type": "markdown",
   "metadata": {},
   "source": [
    "## Introduction\n",
    "In this lab, you'll practice working with JSON files whose schema you know beforehand."
   ]
  },
  {
   "cell_type": "markdown",
   "metadata": {},
   "source": [
    "## Objectives\n",
    "You will be able to:\n",
    "* Use the JSON module to load and parse JSON documents\n",
    "* Write data to predefined JSON schemas"
   ]
  },
  {
   "cell_type": "markdown",
   "metadata": {},
   "source": [
    "## Reading a JSON Schema\n",
    "\n",
    "Here's the JSON schema provided for a section of the NY Times API:\n",
    "<img src=\"images/nytimes_movie_schema.png\" width=500>\n",
    "\n",
    "or a fully expanded view:\n",
    "\n",
    "<img src=\"images/nytimes_movie_schema_detailed.png\" width=500>\n",
    "\n",
    "You can more about the documentation [here](https://developer.nytimes.com/docs/movie-reviews-api/1/routes/reviews/%7Btype%7D.json/get)."
   ]
  },
  {
   "cell_type": "markdown",
   "metadata": {},
   "source": [
    "You can see that the master structure is a dictionary and has a key named 'response'. This is also a dictionary and has two keys: 'data' and 'meta'. As you continue to examine the schema hierarchy, you'll notice the vast majority, in this case, are dictionaries. "
   ]
  },
  {
   "cell_type": "markdown",
   "metadata": {},
   "source": [
    "## Loading the Data File\n",
    "\n",
    "Start by importing the json file. The sample response from the api is stored in a file **ny_times_movies.json**"
   ]
  },
  {
   "cell_type": "code",
   "execution_count": 2,
   "metadata": {},
   "outputs": [],
   "source": [
    "#Your code here\n",
    "import json\n",
    "f = open('ny_times_movies.json', 'r')\n",
    "data = json.load(f)"
   ]
  },
  {
   "cell_type": "code",
   "execution_count": 3,
   "metadata": {},
   "outputs": [
    {
     "name": "stdout",
     "output_type": "stream",
     "text": [
      "<class 'dict'>\n",
      "dict_keys(['status', 'copyright', 'has_more', 'num_results', 'results'])\n"
     ]
    }
   ],
   "source": [
    "print(type(data))\n",
    "print(data.keys())"
   ]
  },
  {
   "cell_type": "markdown",
   "metadata": {},
   "source": [
    "## Loading Specific Data\n",
    "\n",
    "Create a DataFrame of the major data container within the json file, listed under the 'results' heading in the schema above."
   ]
  },
  {
   "cell_type": "code",
   "execution_count": 4,
   "metadata": {},
   "outputs": [
    {
     "data": {
      "text/html": [
       "<div>\n",
       "<style scoped>\n",
       "    .dataframe tbody tr th:only-of-type {\n",
       "        vertical-align: middle;\n",
       "    }\n",
       "\n",
       "    .dataframe tbody tr th {\n",
       "        vertical-align: top;\n",
       "    }\n",
       "\n",
       "    .dataframe thead th {\n",
       "        text-align: right;\n",
       "    }\n",
       "</style>\n",
       "<table border=\"1\" class=\"dataframe\">\n",
       "  <thead>\n",
       "    <tr style=\"text-align: right;\">\n",
       "      <th></th>\n",
       "      <th>byline</th>\n",
       "      <th>critics_pick</th>\n",
       "      <th>date_updated</th>\n",
       "      <th>display_title</th>\n",
       "      <th>headline</th>\n",
       "      <th>link</th>\n",
       "      <th>mpaa_rating</th>\n",
       "      <th>multimedia</th>\n",
       "      <th>opening_date</th>\n",
       "      <th>publication_date</th>\n",
       "      <th>summary_short</th>\n",
       "    </tr>\n",
       "  </thead>\n",
       "  <tbody>\n",
       "    <tr>\n",
       "      <th>0</th>\n",
       "      <td>A.O. SCOTT</td>\n",
       "      <td>1</td>\n",
       "      <td>2018-10-17 02:44:23</td>\n",
       "      <td>Can You Ever Forgive Me</td>\n",
       "      <td>Review: Melissa McCarthy Is Criminally Good in...</td>\n",
       "      <td>{'type': 'article', 'url': 'http://www.nytimes...</td>\n",
       "      <td>R</td>\n",
       "      <td>{'type': 'mediumThreeByTwo210', 'src': 'https:...</td>\n",
       "      <td>2018-10-19</td>\n",
       "      <td>2018-10-16</td>\n",
       "      <td>Marielle Heller directs a true story of litera...</td>\n",
       "    </tr>\n",
       "    <tr>\n",
       "      <th>1</th>\n",
       "      <td>BEN KENIGSBERG</td>\n",
       "      <td>1</td>\n",
       "      <td>2018-10-16 11:04:03</td>\n",
       "      <td>Charm City</td>\n",
       "      <td>Review: ‘Charm City’ Vividly Captures the Stre...</td>\n",
       "      <td>{'type': 'article', 'url': 'http://www.nytimes...</td>\n",
       "      <td></td>\n",
       "      <td>{'type': 'mediumThreeByTwo210', 'src': 'https:...</td>\n",
       "      <td>2018-04-22</td>\n",
       "      <td>2018-10-16</td>\n",
       "      <td>Marilyn Ness’s documentary is dedicated to the...</td>\n",
       "    </tr>\n",
       "    <tr>\n",
       "      <th>2</th>\n",
       "      <td>GLENN KENNY</td>\n",
       "      <td>1</td>\n",
       "      <td>2018-10-16 11:04:04</td>\n",
       "      <td>Horn from the Heart: The Paul Butterfield Story</td>\n",
       "      <td>Review: Paul Butterfield’s Story Is Told in ‘H...</td>\n",
       "      <td>{'type': 'article', 'url': 'http://www.nytimes...</td>\n",
       "      <td></td>\n",
       "      <td>{'type': 'mediumThreeByTwo210', 'src': 'https:...</td>\n",
       "      <td>2018-10-19</td>\n",
       "      <td>2018-10-16</td>\n",
       "      <td>A documentary explores the life of the blues m...</td>\n",
       "    </tr>\n",
       "    <tr>\n",
       "      <th>3</th>\n",
       "      <td>A.O. SCOTT</td>\n",
       "      <td>0</td>\n",
       "      <td>2018-10-16 16:08:03</td>\n",
       "      <td>The Price of Everything</td>\n",
       "      <td>Review: ‘The Price of Everything’ Asks $56 Bil...</td>\n",
       "      <td>{'type': 'article', 'url': 'http://www.nytimes...</td>\n",
       "      <td></td>\n",
       "      <td>{'type': 'mediumThreeByTwo210', 'src': 'https:...</td>\n",
       "      <td>2018-10-19</td>\n",
       "      <td>2018-10-16</td>\n",
       "      <td>This documentary examines the global art marke...</td>\n",
       "    </tr>\n",
       "    <tr>\n",
       "      <th>4</th>\n",
       "      <td>BEN KENIGSBERG</td>\n",
       "      <td>0</td>\n",
       "      <td>2018-10-16 11:04:03</td>\n",
       "      <td>Impulso</td>\n",
       "      <td>Review: ‘Impulso’ Goes Backstage With a Flamen...</td>\n",
       "      <td>{'type': 'article', 'url': 'http://www.nytimes...</td>\n",
       "      <td></td>\n",
       "      <td>{'type': 'mediumThreeByTwo210', 'src': 'https:...</td>\n",
       "      <td>None</td>\n",
       "      <td>2018-10-16</td>\n",
       "      <td>This documentary follows Rocío Molina, a cutti...</td>\n",
       "    </tr>\n",
       "  </tbody>\n",
       "</table>\n",
       "</div>"
      ],
      "text/plain": [
       "           byline  critics_pick         date_updated  \\\n",
       "0      A.O. SCOTT             1  2018-10-17 02:44:23   \n",
       "1  BEN KENIGSBERG             1  2018-10-16 11:04:03   \n",
       "2     GLENN KENNY             1  2018-10-16 11:04:04   \n",
       "3      A.O. SCOTT             0  2018-10-16 16:08:03   \n",
       "4  BEN KENIGSBERG             0  2018-10-16 11:04:03   \n",
       "\n",
       "                                     display_title  \\\n",
       "0                          Can You Ever Forgive Me   \n",
       "1                                       Charm City   \n",
       "2  Horn from the Heart: The Paul Butterfield Story   \n",
       "3                          The Price of Everything   \n",
       "4                                          Impulso   \n",
       "\n",
       "                                            headline  \\\n",
       "0  Review: Melissa McCarthy Is Criminally Good in...   \n",
       "1  Review: ‘Charm City’ Vividly Captures the Stre...   \n",
       "2  Review: Paul Butterfield’s Story Is Told in ‘H...   \n",
       "3  Review: ‘The Price of Everything’ Asks $56 Bil...   \n",
       "4  Review: ‘Impulso’ Goes Backstage With a Flamen...   \n",
       "\n",
       "                                                link mpaa_rating  \\\n",
       "0  {'type': 'article', 'url': 'http://www.nytimes...           R   \n",
       "1  {'type': 'article', 'url': 'http://www.nytimes...               \n",
       "2  {'type': 'article', 'url': 'http://www.nytimes...               \n",
       "3  {'type': 'article', 'url': 'http://www.nytimes...               \n",
       "4  {'type': 'article', 'url': 'http://www.nytimes...               \n",
       "\n",
       "                                          multimedia opening_date  \\\n",
       "0  {'type': 'mediumThreeByTwo210', 'src': 'https:...   2018-10-19   \n",
       "1  {'type': 'mediumThreeByTwo210', 'src': 'https:...   2018-04-22   \n",
       "2  {'type': 'mediumThreeByTwo210', 'src': 'https:...   2018-10-19   \n",
       "3  {'type': 'mediumThreeByTwo210', 'src': 'https:...   2018-10-19   \n",
       "4  {'type': 'mediumThreeByTwo210', 'src': 'https:...         None   \n",
       "\n",
       "  publication_date                                      summary_short  \n",
       "0       2018-10-16  Marielle Heller directs a true story of litera...  \n",
       "1       2018-10-16  Marilyn Ness’s documentary is dedicated to the...  \n",
       "2       2018-10-16  A documentary explores the life of the blues m...  \n",
       "3       2018-10-16  This documentary examines the global art marke...  \n",
       "4       2018-10-16  This documentary follows Rocío Molina, a cutti...  "
      ]
     },
     "execution_count": 4,
     "metadata": {},
     "output_type": "execute_result"
    }
   ],
   "source": [
    "#Your code here\n",
    "import pandas as pd\n",
    "df = pd.DataFrame(data['results'])\n",
    "df.head()"
   ]
  },
  {
   "cell_type": "markdown",
   "metadata": {},
   "source": [
    "## How many unique critics are there?"
   ]
  },
  {
   "cell_type": "code",
   "execution_count": 7,
   "metadata": {},
   "outputs": [
    {
     "name": "stdout",
     "output_type": "stream",
     "text": [
      "['A.O. SCOTT' 'BEN KENIGSBERG' 'GLENN KENNY' 'JEANNETTE CATSOULIS'\n",
      " 'MANOHLA DARGIS' 'KEN JAWOROWSKI' 'TEO BUGBEE']\n"
     ]
    },
    {
     "data": {
      "text/plain": [
       "7"
      ]
     },
     "execution_count": 7,
     "metadata": {},
     "output_type": "execute_result"
    }
   ],
   "source": [
    "#Your code here\n",
    "print(df.byline.unique())\n",
    "len(df.byline.unique())"
   ]
  },
  {
   "cell_type": "markdown",
   "metadata": {},
   "source": [
    "## Create a new column for the review's url. Title the column 'review_url'"
   ]
  },
  {
   "cell_type": "code",
   "execution_count": 9,
   "metadata": {},
   "outputs": [
    {
     "data": {
      "text/plain": [
       "dict_keys(['type', 'url', 'suggested_link_text'])"
      ]
     },
     "execution_count": 9,
     "metadata": {},
     "output_type": "execute_result"
    }
   ],
   "source": [
    "#Get dictionary keys\n",
    "df.link.iloc[0].keys()"
   ]
  },
  {
   "cell_type": "code",
   "execution_count": 10,
   "metadata": {},
   "outputs": [
    {
     "data": {
      "text/plain": [
       "{'type': 'article',\n",
       " 'url': 'http://www.nytimes.com/2018/10/16/movies/can-you-ever-forgive-me-review-melissa-mccarthy.html',\n",
       " 'suggested_link_text': 'Read the New York Times Review of Can You Ever Forgive Me'}"
      ]
     },
     "execution_count": 10,
     "metadata": {},
     "output_type": "execute_result"
    }
   ],
   "source": [
    "df.link.iloc[0]"
   ]
  },
  {
   "cell_type": "code",
   "execution_count": 16,
   "metadata": {},
   "outputs": [
    {
     "data": {
      "text/plain": [
       "'http://www.nytimes.com/2018/10/16/movies/can-you-ever-forgive-me-review-melissa-mccarthy.html'"
      ]
     },
     "execution_count": 16,
     "metadata": {},
     "output_type": "execute_result"
    }
   ],
   "source": [
    "df.link[0]['url']"
   ]
  },
  {
   "cell_type": "code",
   "execution_count": 21,
   "metadata": {},
   "outputs": [
    {
     "data": {
      "text/html": [
       "<div>\n",
       "<style scoped>\n",
       "    .dataframe tbody tr th:only-of-type {\n",
       "        vertical-align: middle;\n",
       "    }\n",
       "\n",
       "    .dataframe tbody tr th {\n",
       "        vertical-align: top;\n",
       "    }\n",
       "\n",
       "    .dataframe thead th {\n",
       "        text-align: right;\n",
       "    }\n",
       "</style>\n",
       "<table border=\"1\" class=\"dataframe\">\n",
       "  <thead>\n",
       "    <tr style=\"text-align: right;\">\n",
       "      <th></th>\n",
       "      <th>link_type</th>\n",
       "      <th>link_url</th>\n",
       "      <th>link_suggested_link_text</th>\n",
       "    </tr>\n",
       "  </thead>\n",
       "  <tbody>\n",
       "    <tr>\n",
       "      <th>0</th>\n",
       "      <td>article</td>\n",
       "      <td>http://www.nytimes.com/2018/10/16/movies/can-y...</td>\n",
       "      <td>Read the New York Times Review of Can You Ever...</td>\n",
       "    </tr>\n",
       "    <tr>\n",
       "      <th>1</th>\n",
       "      <td>article</td>\n",
       "      <td>http://www.nytimes.com/2018/10/16/movies/charm...</td>\n",
       "      <td>Read the New York Times Review of Charm City</td>\n",
       "    </tr>\n",
       "    <tr>\n",
       "      <th>2</th>\n",
       "      <td>article</td>\n",
       "      <td>http://www.nytimes.com/2018/10/16/movies/horn-...</td>\n",
       "      <td>Read the New York Times Review of Horn from th...</td>\n",
       "    </tr>\n",
       "    <tr>\n",
       "      <th>3</th>\n",
       "      <td>article</td>\n",
       "      <td>http://www.nytimes.com/2018/10/16/movies/the-p...</td>\n",
       "      <td>Read the New York Times Review of The Price of...</td>\n",
       "    </tr>\n",
       "    <tr>\n",
       "      <th>4</th>\n",
       "      <td>article</td>\n",
       "      <td>http://www.nytimes.com/2018/10/16/movies/impul...</td>\n",
       "      <td>Read the New York Times Review of Impulso</td>\n",
       "    </tr>\n",
       "  </tbody>\n",
       "</table>\n",
       "</div>"
      ],
      "text/plain": [
       "  link_type                                           link_url  \\\n",
       "0   article  http://www.nytimes.com/2018/10/16/movies/can-y...   \n",
       "1   article  http://www.nytimes.com/2018/10/16/movies/charm...   \n",
       "2   article  http://www.nytimes.com/2018/10/16/movies/horn-...   \n",
       "3   article  http://www.nytimes.com/2018/10/16/movies/the-p...   \n",
       "4   article  http://www.nytimes.com/2018/10/16/movies/impul...   \n",
       "\n",
       "                            link_suggested_link_text  \n",
       "0  Read the New York Times Review of Can You Ever...  \n",
       "1       Read the New York Times Review of Charm City  \n",
       "2  Read the New York Times Review of Horn from th...  \n",
       "3  Read the New York Times Review of The Price of...  \n",
       "4          Read the New York Times Review of Impulso  "
      ]
     },
     "execution_count": 21,
     "metadata": {},
     "output_type": "execute_result"
    }
   ],
   "source": [
    "# My code - it worked but I think it did more than they wanted...\n",
    "\n",
    "keys = df.link.iloc[0].keys()\n",
    "\n",
    "#New column\n",
    "review_urls = []\n",
    "\n",
    "#Create a new feature for each of these keys\n",
    "for key in keys:\n",
    "    review_url = 'link_{}'.format(key) #Create new column name\n",
    "    df[review_url] = df.link.map(lambda x: x[key]) #Create a new column\n",
    "    review_urls.append(review_url)\n",
    "df[review_urls].head()"
   ]
  },
  {
   "cell_type": "code",
   "execution_count": 22,
   "metadata": {},
   "outputs": [
    {
     "data": {
      "text/html": [
       "<div>\n",
       "<style scoped>\n",
       "    .dataframe tbody tr th:only-of-type {\n",
       "        vertical-align: middle;\n",
       "    }\n",
       "\n",
       "    .dataframe tbody tr th {\n",
       "        vertical-align: top;\n",
       "    }\n",
       "\n",
       "    .dataframe thead th {\n",
       "        text-align: right;\n",
       "    }\n",
       "</style>\n",
       "<table border=\"1\" class=\"dataframe\">\n",
       "  <thead>\n",
       "    <tr style=\"text-align: right;\">\n",
       "      <th></th>\n",
       "      <th>byline</th>\n",
       "      <th>critics_pick</th>\n",
       "      <th>date_updated</th>\n",
       "      <th>display_title</th>\n",
       "      <th>headline</th>\n",
       "      <th>link</th>\n",
       "      <th>mpaa_rating</th>\n",
       "      <th>multimedia</th>\n",
       "      <th>opening_date</th>\n",
       "      <th>publication_date</th>\n",
       "      <th>summary_short</th>\n",
       "      <th>link_type</th>\n",
       "      <th>link_url</th>\n",
       "      <th>link_suggested_link_text</th>\n",
       "    </tr>\n",
       "  </thead>\n",
       "  <tbody>\n",
       "    <tr>\n",
       "      <th>0</th>\n",
       "      <td>A.O. SCOTT</td>\n",
       "      <td>1</td>\n",
       "      <td>2018-10-17 02:44:23</td>\n",
       "      <td>Can You Ever Forgive Me</td>\n",
       "      <td>Review: Melissa McCarthy Is Criminally Good in...</td>\n",
       "      <td>{'type': 'article', 'url': 'http://www.nytimes...</td>\n",
       "      <td>R</td>\n",
       "      <td>{'type': 'mediumThreeByTwo210', 'src': 'https:...</td>\n",
       "      <td>2018-10-19</td>\n",
       "      <td>2018-10-16</td>\n",
       "      <td>Marielle Heller directs a true story of litera...</td>\n",
       "      <td>article</td>\n",
       "      <td>http://www.nytimes.com/2018/10/16/movies/can-y...</td>\n",
       "      <td>Read the New York Times Review of Can You Ever...</td>\n",
       "    </tr>\n",
       "    <tr>\n",
       "      <th>1</th>\n",
       "      <td>BEN KENIGSBERG</td>\n",
       "      <td>1</td>\n",
       "      <td>2018-10-16 11:04:03</td>\n",
       "      <td>Charm City</td>\n",
       "      <td>Review: ‘Charm City’ Vividly Captures the Stre...</td>\n",
       "      <td>{'type': 'article', 'url': 'http://www.nytimes...</td>\n",
       "      <td></td>\n",
       "      <td>{'type': 'mediumThreeByTwo210', 'src': 'https:...</td>\n",
       "      <td>2018-04-22</td>\n",
       "      <td>2018-10-16</td>\n",
       "      <td>Marilyn Ness’s documentary is dedicated to the...</td>\n",
       "      <td>article</td>\n",
       "      <td>http://www.nytimes.com/2018/10/16/movies/charm...</td>\n",
       "      <td>Read the New York Times Review of Charm City</td>\n",
       "    </tr>\n",
       "    <tr>\n",
       "      <th>2</th>\n",
       "      <td>GLENN KENNY</td>\n",
       "      <td>1</td>\n",
       "      <td>2018-10-16 11:04:04</td>\n",
       "      <td>Horn from the Heart: The Paul Butterfield Story</td>\n",
       "      <td>Review: Paul Butterfield’s Story Is Told in ‘H...</td>\n",
       "      <td>{'type': 'article', 'url': 'http://www.nytimes...</td>\n",
       "      <td></td>\n",
       "      <td>{'type': 'mediumThreeByTwo210', 'src': 'https:...</td>\n",
       "      <td>2018-10-19</td>\n",
       "      <td>2018-10-16</td>\n",
       "      <td>A documentary explores the life of the blues m...</td>\n",
       "      <td>article</td>\n",
       "      <td>http://www.nytimes.com/2018/10/16/movies/horn-...</td>\n",
       "      <td>Read the New York Times Review of Horn from th...</td>\n",
       "    </tr>\n",
       "    <tr>\n",
       "      <th>3</th>\n",
       "      <td>A.O. SCOTT</td>\n",
       "      <td>0</td>\n",
       "      <td>2018-10-16 16:08:03</td>\n",
       "      <td>The Price of Everything</td>\n",
       "      <td>Review: ‘The Price of Everything’ Asks $56 Bil...</td>\n",
       "      <td>{'type': 'article', 'url': 'http://www.nytimes...</td>\n",
       "      <td></td>\n",
       "      <td>{'type': 'mediumThreeByTwo210', 'src': 'https:...</td>\n",
       "      <td>2018-10-19</td>\n",
       "      <td>2018-10-16</td>\n",
       "      <td>This documentary examines the global art marke...</td>\n",
       "      <td>article</td>\n",
       "      <td>http://www.nytimes.com/2018/10/16/movies/the-p...</td>\n",
       "      <td>Read the New York Times Review of The Price of...</td>\n",
       "    </tr>\n",
       "    <tr>\n",
       "      <th>4</th>\n",
       "      <td>BEN KENIGSBERG</td>\n",
       "      <td>0</td>\n",
       "      <td>2018-10-16 11:04:03</td>\n",
       "      <td>Impulso</td>\n",
       "      <td>Review: ‘Impulso’ Goes Backstage With a Flamen...</td>\n",
       "      <td>{'type': 'article', 'url': 'http://www.nytimes...</td>\n",
       "      <td></td>\n",
       "      <td>{'type': 'mediumThreeByTwo210', 'src': 'https:...</td>\n",
       "      <td>None</td>\n",
       "      <td>2018-10-16</td>\n",
       "      <td>This documentary follows Rocío Molina, a cutti...</td>\n",
       "      <td>article</td>\n",
       "      <td>http://www.nytimes.com/2018/10/16/movies/impul...</td>\n",
       "      <td>Read the New York Times Review of Impulso</td>\n",
       "    </tr>\n",
       "  </tbody>\n",
       "</table>\n",
       "</div>"
      ],
      "text/plain": [
       "           byline  critics_pick         date_updated  \\\n",
       "0      A.O. SCOTT             1  2018-10-17 02:44:23   \n",
       "1  BEN KENIGSBERG             1  2018-10-16 11:04:03   \n",
       "2     GLENN KENNY             1  2018-10-16 11:04:04   \n",
       "3      A.O. SCOTT             0  2018-10-16 16:08:03   \n",
       "4  BEN KENIGSBERG             0  2018-10-16 11:04:03   \n",
       "\n",
       "                                     display_title  \\\n",
       "0                          Can You Ever Forgive Me   \n",
       "1                                       Charm City   \n",
       "2  Horn from the Heart: The Paul Butterfield Story   \n",
       "3                          The Price of Everything   \n",
       "4                                          Impulso   \n",
       "\n",
       "                                            headline  \\\n",
       "0  Review: Melissa McCarthy Is Criminally Good in...   \n",
       "1  Review: ‘Charm City’ Vividly Captures the Stre...   \n",
       "2  Review: Paul Butterfield’s Story Is Told in ‘H...   \n",
       "3  Review: ‘The Price of Everything’ Asks $56 Bil...   \n",
       "4  Review: ‘Impulso’ Goes Backstage With a Flamen...   \n",
       "\n",
       "                                                link mpaa_rating  \\\n",
       "0  {'type': 'article', 'url': 'http://www.nytimes...           R   \n",
       "1  {'type': 'article', 'url': 'http://www.nytimes...               \n",
       "2  {'type': 'article', 'url': 'http://www.nytimes...               \n",
       "3  {'type': 'article', 'url': 'http://www.nytimes...               \n",
       "4  {'type': 'article', 'url': 'http://www.nytimes...               \n",
       "\n",
       "                                          multimedia opening_date  \\\n",
       "0  {'type': 'mediumThreeByTwo210', 'src': 'https:...   2018-10-19   \n",
       "1  {'type': 'mediumThreeByTwo210', 'src': 'https:...   2018-04-22   \n",
       "2  {'type': 'mediumThreeByTwo210', 'src': 'https:...   2018-10-19   \n",
       "3  {'type': 'mediumThreeByTwo210', 'src': 'https:...   2018-10-19   \n",
       "4  {'type': 'mediumThreeByTwo210', 'src': 'https:...         None   \n",
       "\n",
       "  publication_date                                      summary_short  \\\n",
       "0       2018-10-16  Marielle Heller directs a true story of litera...   \n",
       "1       2018-10-16  Marilyn Ness’s documentary is dedicated to the...   \n",
       "2       2018-10-16  A documentary explores the life of the blues m...   \n",
       "3       2018-10-16  This documentary examines the global art marke...   \n",
       "4       2018-10-16  This documentary follows Rocío Molina, a cutti...   \n",
       "\n",
       "  link_type                                           link_url  \\\n",
       "0   article  http://www.nytimes.com/2018/10/16/movies/can-y...   \n",
       "1   article  http://www.nytimes.com/2018/10/16/movies/charm...   \n",
       "2   article  http://www.nytimes.com/2018/10/16/movies/horn-...   \n",
       "3   article  http://www.nytimes.com/2018/10/16/movies/the-p...   \n",
       "4   article  http://www.nytimes.com/2018/10/16/movies/impul...   \n",
       "\n",
       "                            link_suggested_link_text  \n",
       "0  Read the New York Times Review of Can You Ever...  \n",
       "1       Read the New York Times Review of Charm City  \n",
       "2  Read the New York Times Review of Horn from th...  \n",
       "3  Read the New York Times Review of The Price of...  \n",
       "4          Read the New York Times Review of Impulso  "
      ]
     },
     "execution_count": 22,
     "metadata": {},
     "output_type": "execute_result"
    }
   ],
   "source": [
    "df.head()"
   ]
  },
  {
   "cell_type": "code",
   "execution_count": null,
   "metadata": {},
   "outputs": [],
   "source": [
    "# Their much simpler code - creating just one new column!\n",
    "df['review_url'] = df['link'].map(lambda x : x['url'])\n",
    "df.head()"
   ]
  },
  {
   "cell_type": "markdown",
   "metadata": {},
   "source": [
    "## How many results are in the file?"
   ]
  },
  {
   "cell_type": "code",
   "execution_count": 23,
   "metadata": {},
   "outputs": [
    {
     "data": {
      "text/plain": [
       "20"
      ]
     },
     "execution_count": 23,
     "metadata": {},
     "output_type": "execute_result"
    }
   ],
   "source": [
    "#Your code here\n",
    "len(df[review_urls])"
   ]
  },
  {
   "cell_type": "markdown",
   "metadata": {},
   "source": [
    "## Summary\n",
    "Well done! Here you continued to gather practice extracting data from JSON files and transforming them into our standard tool of Pandas DataFrames."
   ]
  }
 ],
 "metadata": {
  "kernelspec": {
   "display_name": "learn-env",
   "language": "python",
   "name": "learn-env"
  },
  "language_info": {
   "codemirror_mode": {
    "name": "ipython",
    "version": 3
   },
   "file_extension": ".py",
   "mimetype": "text/x-python",
   "name": "python",
   "nbconvert_exporter": "python",
   "pygments_lexer": "ipython3",
   "version": "3.6.6"
  },
  "toc": {
   "base_numbering": 1,
   "nav_menu": {},
   "number_sections": true,
   "sideBar": true,
   "skip_h1_title": false,
   "title_cell": "Table of Contents",
   "title_sidebar": "Contents",
   "toc_cell": false,
   "toc_position": {},
   "toc_section_display": true,
   "toc_window_display": false
  }
 },
 "nbformat": 4,
 "nbformat_minor": 2
}
